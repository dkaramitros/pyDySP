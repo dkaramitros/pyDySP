{
 "cells": [
  {
   "cell_type": "markdown",
   "metadata": {},
   "source": [
    "# Shaking Table Data Import"
   ]
  },
  {
   "cell_type": "markdown",
   "metadata": {},
   "source": [
    "## Import Data"
   ]
  },
  {
   "cell_type": "markdown",
   "metadata": {},
   "source": [
    "### Libraries"
   ]
  },
  {
   "cell_type": "code",
   "execution_count": null,
   "metadata": {},
   "outputs": [],
   "source": [
    "import pydaq\n",
    "import scipy as sp\n",
    "import numpy as np\n",
    "import matplotlib.pyplot as plt\n",
    "%matplotlib inline"
   ]
  },
  {
   "cell_type": "markdown",
   "metadata": {},
   "source": [
    "### Information"
   ]
  },
  {
   "cell_type": "code",
   "execution_count": null,
   "metadata": {},
   "outputs": [],
   "source": [
    "# Test Information\n",
    "directory = \"free_field\"\n",
    "filenames = [\n",
    "    \"./\"+directory+\"/LE2402_T1.mat\",\n",
    "    \"./\"+directory+\"/LE2402_T2.mat\",\n",
    "    \"./\"+directory+\"/LE2402_T3.mat\",\n",
    "    \"./\"+directory+\"/LE2402_T4.mat\",\n",
    "    \"./\"+directory+\"/LE2402_T5.mat\",\n",
    "    \"./\"+directory+\"/LE2402_T6.mat\",\n",
    "    \"./\"+directory+\"/LE2402_T7.mat\",\n",
    "    \"./\"+directory+\"/LE2402_T8.mat\",\n",
    "    \"./\"+directory+\"/LE2402_T9.mat\",\n",
    "    \"./\"+directory+\"/LE2402_T10.mat\",\n",
    "    \"./\"+directory+\"/LE2402_T11.mat\",\n",
    "    \"./\"+directory+\"/LE2402_T12.mat\",\n",
    "    \"./\"+directory+\"/LE2402_T13.mat\",\n",
    "    \"./\"+directory+\"/LE2402_T14.mat\",\n",
    "    \"./\"+directory+\"/LE2402_T15.mat\",\n",
    "    \"./\"+directory+\"/LE2402_T16.mat\",\n",
    "    \"./\"+directory+\"/LE2402_T17.mat\",\n",
    "    \"./\"+directory+\"/LE2402_T18.mat\",\n",
    "    \"./\"+directory+\"/LE2402_T19.mat\",\n",
    "    \"./\"+directory+\"/LE2402_T20.mat\"\n",
    "]\n",
    "test_names = [\n",
    "    \"1-50Hz Noise, 0.06g\",\n",
    "    \"1-50Hz Noise, 0.20g\",\n",
    "    \"1-50Hz Noise, 0.06g\",\n",
    "    \"1-50Hz Noise, 0.50g\",\n",
    "    \"1-50Hz Noise, 0.06g\",\n",
    "    \"1-50Hz Noise, 1.00g\",\n",
    "    \"1-50Hz Noise, 0.06g\",\n",
    "    \"Scaled seismic motion: Rec1\",\n",
    "    \"Scaled seismic motion: Rec2\",\n",
    "    \"Scaled seismic motion: Rec3\",\n",
    "    \"Scaled seismic motion: Rec4\",\n",
    "    \"Scaled seismic motion: Rec5\",\n",
    "    \"Uncaled seismic motion: Rec1\",\n",
    "    \"1-50Hz Noise, 0.06g\",\n",
    "    \"1-50Hz Noise, 0.20g\",\n",
    "    \"1-50Hz Noise, 0.06g\",\n",
    "    \"1-50Hz Noise, 0.50g\",\n",
    "    \"1-50Hz Noise, 0.06g\",\n",
    "    \"1-50Hz Noise, 1.00g\",\n",
    "    \"1-50Hz Noise, 0.06g\"\n",
    "]"
   ]
  },
  {
   "cell_type": "code",
   "execution_count": null,
   "metadata": {},
   "outputs": [],
   "source": [
    "# Channel information\n",
    "channel_names = [\n",
    "    \"Acc1-R1\",\n",
    "    \"Acc2-R1vert\",\n",
    "    \"Acc3-R3\",\n",
    "    \"Acc4-R5\",\n",
    "    \"Acc5-R7\",\n",
    "    \"Pot-R3\",\n",
    "    \"Pot-R5\",\n",
    "    \"Pot-R7\",\n",
    "    \"Acc6-S1\",\n",
    "    \"Acc7-S3\",\n",
    "    \"Acc8-S3s\",\n",
    "    \"Acc9-S5\",\n",
    "    \"Acc10-S5s\",\n",
    "    \"Acc11-S7\",\n",
    "    \"Acc11-S5s\",\n",
    "]\n",
    "channel_descriptions = [\n",
    "    \"Stack Ring 1Y\",\n",
    "    \"Stack Ring 1Z\",\n",
    "    \"Stack Ring 3Y\",\n",
    "    \"Stack Ring 5Y\",\n",
    "    \"Stack Ring 7Y\",\n",
    "    \"Stack Ring 3Y\",\n",
    "    \"Stack Ring 5Y\",\n",
    "    \"Stack Ring 7Y\",\n",
    "    \"Sand (510,0)\",\n",
    "    \"Sand (510,242)\",\n",
    "    \"Sand (300,242)\",\n",
    "    \"Sand (510,462)\",\n",
    "    \"Sand (300,462)\",\n",
    "    \"Sand (510,682)\",\n",
    "    \"Sand (300,682)\",\n",
    "]\n",
    "units = [\n",
    "    \"g\",\"g\",\"g\",\"g\",\"g\",\n",
    "    \"mm\",\"mm\",\"mm\",\n",
    "    \"g\",\"g\",\"g\",\"g\",\"g\",\"g\",\"g\"\n",
    "]\n",
    "calibrations = [\n",
    "    1,1,1,1,1,\n",
    "    0.039359,0.038985,0.038477,\n",
    "    3.110,3.120,3.135,2.905,3.008,3.332,2.908\n",
    "] #V/unit"
   ]
  },
  {
   "cell_type": "markdown",
   "metadata": {},
   "source": [
    "### Data Import"
   ]
  },
  {
   "cell_type": "code",
   "execution_count": null,
   "metadata": {},
   "outputs": [],
   "source": [
    "# Create tests\n",
    "test = [pydaq.Test() for _ in enumerate(filenames)]\n",
    "for i,i_test in enumerate(test):\n",
    "    i_test.read_equals(filename=filenames[i])\n",
    "    i_test.set_test_info(name=test_names[i])\n",
    "    i_test.set_channel_info(names=channel_names, descriptions=channel_descriptions, units=units, calibrations=calibrations)\n",
    "    i_test.baseline()\n",
    "    i_test.trim()"
   ]
  },
  {
   "cell_type": "markdown",
   "metadata": {},
   "source": [
    "## Printing and plotting"
   ]
  },
  {
   "cell_type": "code",
   "execution_count": null,
   "metadata": {},
   "outputs": [],
   "source": [
    "ax = test[1].channel[0].plot(plot_type=\"Timehistory\")\n",
    "ax = test[1].channel[0].plot(plot_type=\"Fourier\")\n",
    "ax = test[1].channel[0].plot(plot_type=\"Power\")\n",
    "ax = test[1].channel[0].plot(plot_type=\"Arias\")"
   ]
  },
  {
   "cell_type": "code",
   "execution_count": null,
   "metadata": {},
   "outputs": [],
   "source": [
    "ax = test[1].plot(channels=[13,11,9,8], columns=1, plot_type=\"Timehistory\") #same as above"
   ]
  },
  {
   "cell_type": "code",
   "execution_count": null,
   "metadata": {},
   "outputs": [],
   "source": []
  }
 ],
 "metadata": {
  "kernelspec": {
   "display_name": "base",
   "language": "python",
   "name": "python3"
  },
  "language_info": {
   "codemirror_mode": {
    "name": "ipython",
    "version": 3
   },
   "file_extension": ".py",
   "mimetype": "text/x-python",
   "name": "python",
   "nbconvert_exporter": "python",
   "pygments_lexer": "ipython3",
   "version": "3.10.9"
  }
 },
 "nbformat": 4,
 "nbformat_minor": 2
}
