{
 "cells": [
  {
   "cell_type": "markdown",
   "metadata": {},
   "source": [
    "# Shaking Table Data Import"
   ]
  },
  {
   "cell_type": "markdown",
   "metadata": {},
   "source": [
    "## Import Data"
   ]
  },
  {
   "cell_type": "markdown",
   "metadata": {},
   "source": [
    "### Libraries"
   ]
  },
  {
   "cell_type": "code",
   "execution_count": 1,
   "metadata": {},
   "outputs": [
    {
     "ename": "NameError",
     "evalue": "name 'plot_timehistory' is not defined",
     "output_type": "error",
     "traceback": [
      "\u001b[1;31m---------------------------------------------------------------------------\u001b[0m",
      "\u001b[1;31mNameError\u001b[0m                                 Traceback (most recent call last)",
      "Cell \u001b[1;32mIn[1], line 1\u001b[0m\n\u001b[1;32m----> 1\u001b[0m \u001b[38;5;28;01mimport\u001b[39;00m \u001b[38;5;21;01mpydaq\u001b[39;00m\n\u001b[0;32m      2\u001b[0m \u001b[38;5;28;01mimport\u001b[39;00m \u001b[38;5;21;01mscipy\u001b[39;00m \u001b[38;5;28;01mas\u001b[39;00m \u001b[38;5;21;01msp\u001b[39;00m\n\u001b[0;32m      3\u001b[0m \u001b[38;5;28;01mimport\u001b[39;00m \u001b[38;5;21;01mnumpy\u001b[39;00m \u001b[38;5;28;01mas\u001b[39;00m \u001b[38;5;21;01mnp\u001b[39;00m\n",
      "File \u001b[1;32mc:\\Users\\dimit\\OneDrive - University of Bristol\\# NUMERICAL #\\Python\\Data Acquisition\\pydaq.py:6\u001b[0m\n\u001b[0;32m      3\u001b[0m \u001b[38;5;28;01mimport\u001b[39;00m \u001b[38;5;21;01mnumpy\u001b[39;00m \u001b[38;5;28;01mas\u001b[39;00m \u001b[38;5;21;01mnp\u001b[39;00m\n\u001b[0;32m      4\u001b[0m \u001b[38;5;28;01mimport\u001b[39;00m \u001b[38;5;21;01mmatplotlib\u001b[39;00m\u001b[38;5;21;01m.\u001b[39;00m\u001b[38;5;21;01mpyplot\u001b[39;00m \u001b[38;5;28;01mas\u001b[39;00m \u001b[38;5;21;01mplt\u001b[39;00m\n\u001b[1;32m----> 6\u001b[0m \u001b[38;5;28;01mclass\u001b[39;00m \u001b[38;5;21;01mTest\u001b[39;00m:\n\u001b[0;32m      8\u001b[0m     \u001b[38;5;28;01mdef\u001b[39;00m \u001b[38;5;21m__init__\u001b[39m(\u001b[38;5;28mself\u001b[39m):\n\u001b[0;32m      9\u001b[0m         \u001b[38;5;28;01mpass\u001b[39;00m\n",
      "File \u001b[1;32mc:\\Users\\dimit\\OneDrive - University of Bristol\\# NUMERICAL #\\Python\\Data Acquisition\\pydaq.py:54\u001b[0m, in \u001b[0;36mTest\u001b[1;34m()\u001b[0m\n\u001b[0;32m     51\u001b[0m         \u001b[38;5;28;01mfor\u001b[39;00m channel \u001b[38;5;129;01min\u001b[39;00m \u001b[38;5;28mself\u001b[39m\u001b[38;5;241m.\u001b[39mchannel[\u001b[38;5;241m1\u001b[39m:]:\n\u001b[0;32m     52\u001b[0m             channel\u001b[38;5;241m.\u001b[39mtrim(start\u001b[38;5;241m=\u001b[39mstart_0, end\u001b[38;5;241m=\u001b[39mend_0, time_shift\u001b[38;5;241m=\u001b[39mtime_shift)\n\u001b[1;32m---> 54\u001b[0m \u001b[38;5;28;01mdef\u001b[39;00m \u001b[38;5;21m_multiplot\u001b[39m(\u001b[38;5;28mself\u001b[39m, \u001b[38;5;28mtype\u001b[39m\u001b[38;5;241m=\u001b[39m\u001b[43mplot_timehistory\u001b[49m, channels: \u001b[38;5;28mint\u001b[39m\u001b[38;5;241m=\u001b[39m\u001b[38;5;28;01mNone\u001b[39;00m, columns: \u001b[38;5;28mint\u001b[39m\u001b[38;5;241m=\u001b[39m\u001b[38;5;241m1\u001b[39m):\n\u001b[0;32m     55\u001b[0m     \u001b[38;5;28;01mif\u001b[39;00m channels \u001b[38;5;241m==\u001b[39m \u001b[38;5;28;01mNone\u001b[39;00m: channels \u001b[38;5;241m=\u001b[39m np\u001b[38;5;241m.\u001b[39marange(\u001b[38;5;28mself\u001b[39m\u001b[38;5;241m.\u001b[39mno_channels)\n\u001b[0;32m     56\u001b[0m     channels \u001b[38;5;241m=\u001b[39m np\u001b[38;5;241m.\u001b[39mreshape(channels,[\u001b[38;5;241m-\u001b[39m\u001b[38;5;241m1\u001b[39m,columns])\n",
      "\u001b[1;31mNameError\u001b[0m: name 'plot_timehistory' is not defined"
     ]
    }
   ],
   "source": [
    "import pydaq\n",
    "import scipy as sp\n",
    "import numpy as np\n",
    "import matplotlib.pyplot as plt\n",
    "%matplotlib inline"
   ]
  },
  {
   "cell_type": "markdown",
   "metadata": {},
   "source": [
    "### Information"
   ]
  },
  {
   "cell_type": "code",
   "execution_count": null,
   "metadata": {},
   "outputs": [],
   "source": [
    "# Test Information\n",
    "directory = \"free_field\"\n",
    "filenames = [\n",
    "    \"./\"+directory+\"/LE2402_T1.mat\",\n",
    "    \"./\"+directory+\"/LE2402_T2.mat\",\n",
    "    \"./\"+directory+\"/LE2402_T3.mat\",\n",
    "    \"./\"+directory+\"/LE2402_T4.mat\",\n",
    "    \"./\"+directory+\"/LE2402_T5.mat\",\n",
    "    \"./\"+directory+\"/LE2402_T6.mat\",\n",
    "    \"./\"+directory+\"/LE2402_T7.mat\",\n",
    "    \"./\"+directory+\"/LE2402_T8.mat\",\n",
    "    \"./\"+directory+\"/LE2402_T9.mat\",\n",
    "    \"./\"+directory+\"/LE2402_T10.mat\",\n",
    "    \"./\"+directory+\"/LE2402_T11.mat\",\n",
    "    \"./\"+directory+\"/LE2402_T12.mat\",\n",
    "    \"./\"+directory+\"/LE2402_T13.mat\",\n",
    "    \"./\"+directory+\"/LE2402_T14.mat\",\n",
    "    \"./\"+directory+\"/LE2402_T15.mat\",\n",
    "    \"./\"+directory+\"/LE2402_T16.mat\",\n",
    "    \"./\"+directory+\"/LE2402_T17.mat\",\n",
    "    \"./\"+directory+\"/LE2402_T18.mat\",\n",
    "    \"./\"+directory+\"/LE2402_T19.mat\",\n",
    "    \"./\"+directory+\"/LE2402_T20.mat\"\n",
    "]\n",
    "test_names = [\n",
    "    \"1-50Hz Noise, 0.06g\",\n",
    "    \"1-50Hz Noise, 0.20g\",\n",
    "    \"1-50Hz Noise, 0.06g\",\n",
    "    \"1-50Hz Noise, 0.50g\",\n",
    "    \"1-50Hz Noise, 0.06g\",\n",
    "    \"1-50Hz Noise, 1.00g\",\n",
    "    \"1-50Hz Noise, 0.06g\",\n",
    "    \"Scaled seismic motion: Rec1\",\n",
    "    \"Scaled seismic motion: Rec2\",\n",
    "    \"Scaled seismic motion: Rec3\",\n",
    "    \"Scaled seismic motion: Rec4\",\n",
    "    \"Scaled seismic motion: Rec5\",\n",
    "    \"Uncaled seismic motion: Rec1\",\n",
    "    \"1-50Hz Noise, 0.06g\",\n",
    "    \"1-50Hz Noise, 0.20g\",\n",
    "    \"1-50Hz Noise, 0.06g\",\n",
    "    \"1-50Hz Noise, 0.50g\",\n",
    "    \"1-50Hz Noise, 0.06g\",\n",
    "    \"1-50Hz Noise, 1.00g\",\n",
    "    \"1-50Hz Noise, 0.06g\"\n",
    "]"
   ]
  },
  {
   "cell_type": "code",
   "execution_count": null,
   "metadata": {},
   "outputs": [],
   "source": [
    "# Channel information\n",
    "channel_names = [\n",
    "    \"Acc1-R1\",\n",
    "    \"Acc2-R1vert\",\n",
    "    \"Acc3-R3\",\n",
    "    \"Acc4-R5\",\n",
    "    \"Acc5-R7\",\n",
    "    \"Pot-R3\",\n",
    "    \"Pot-R5\",\n",
    "    \"Pot-R7\",\n",
    "    \"Acc6-S1\",\n",
    "    \"Acc7-S3\",\n",
    "    \"Acc8-S3s\",\n",
    "    \"Acc9-S5\",\n",
    "    \"Acc10-S5s\",\n",
    "    \"Acc11-S7\",\n",
    "    \"Acc11-S5s\",\n",
    "]\n",
    "channel_descriptions = [\n",
    "    \"Stack Ring 1Y\",\n",
    "    \"Stack Ring 1Z\",\n",
    "    \"Stack Ring 3Y\",\n",
    "    \"Stack Ring 5Y\",\n",
    "    \"Stack Ring 7Y\",\n",
    "    \"Stack Ring 3Y\",\n",
    "    \"Stack Ring 5Y\",\n",
    "    \"Stack Ring 7Y\",\n",
    "    \"Sand (510,0)\",\n",
    "    \"Sand (510,242)\",\n",
    "    \"Sand (300,242)\",\n",
    "    \"Sand (510,462)\",\n",
    "    \"Sand (300,462)\",\n",
    "    \"Sand (510,682)\",\n",
    "    \"Sand (300,682)\",\n",
    "]\n",
    "units = [\n",
    "    \"g\",\"g\",\"g\",\"g\",\"g\",\n",
    "    \"mm\",\"mm\",\"mm\",\n",
    "    \"g\",\"g\",\"g\",\"g\",\"g\",\"g\",\"g\"\n",
    "]\n",
    "calibrations = [\n",
    "    1,1,1,1,1,\n",
    "    0.039359,0.038985,0.038477,\n",
    "    3.110,3.120,3.135,2.905,3.008,3.332,2.908\n",
    "] #V/unit"
   ]
  },
  {
   "cell_type": "markdown",
   "metadata": {},
   "source": [
    "### Data Import"
   ]
  },
  {
   "cell_type": "code",
   "execution_count": null,
   "metadata": {},
   "outputs": [],
   "source": [
    "# Create tests\n",
    "test = [pydaq.Test() for _ in enumerate(filenames)]\n",
    "for i,i_test in enumerate(test):\n",
    "    i_test.read_equals(filename=filenames[i])\n",
    "    i_test.set_test_info(name=test_names[i])\n",
    "    i_test.set_channels_info(names=channel_names, descriptions=channel_descriptions, units=units, calibrations=calibrations)\n",
    "    i_test.remove_offset()\n",
    "    i_test.trim()"
   ]
  },
  {
   "cell_type": "markdown",
   "metadata": {},
   "source": [
    "## Printing and plotting"
   ]
  },
  {
   "cell_type": "code",
   "execution_count": null,
   "metadata": {},
   "outputs": [],
   "source": [
    "ax_t = test[1].channel[1].plot_timehistory()"
   ]
  },
  {
   "cell_type": "code",
   "execution_count": null,
   "metadata": {},
   "outputs": [],
   "source": [
    "ax_ts = test[1].plot_timehistories(channels=[13,11,9,8], columns=1)"
   ]
  },
  {
   "cell_type": "code",
   "execution_count": null,
   "metadata": {},
   "outputs": [],
   "source": [
    "ax_f = test[1].channel[0].plot_fourier()"
   ]
  },
  {
   "cell_type": "code",
   "execution_count": null,
   "metadata": {},
   "outputs": [],
   "source": [
    "ax_fs = test[1].plot_fourier(channels=[13,11,9,8], columns=1)"
   ]
  }
 ],
 "metadata": {
  "kernelspec": {
   "display_name": "base",
   "language": "python",
   "name": "python3"
  },
  "language_info": {
   "codemirror_mode": {
    "name": "ipython",
    "version": 3
   },
   "file_extension": ".py",
   "mimetype": "text/x-python",
   "name": "python",
   "nbconvert_exporter": "python",
   "pygments_lexer": "ipython3",
   "version": "3.10.9"
  }
 },
 "nbformat": 4,
 "nbformat_minor": 2
}
